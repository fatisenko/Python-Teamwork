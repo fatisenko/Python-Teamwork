{
 "cells": [
  {
   "cell_type": "code",
   "execution_count": 1,
   "metadata": {},
   "outputs": [
    {
     "data": {
      "text/plain": [
       "'A'"
      ]
     },
     "execution_count": 1,
     "metadata": {},
     "output_type": "execute_result"
    }
   ],
   "source": [
    "def cup_swapping(liste):\n",
    "  liste2 = [\"A\", \"B\", \"C\"]\n",
    "  b = 1\n",
    "  for i in liste:\n",
    "    if i[0] == liste2[b]:\n",
    "      b = liste2.index(i[1])\n",
    "    elif i[1] == liste2[b]:\n",
    "     b = liste2.index(i[0])   \n",
    "  return liste2[b]\n",
    "cup_swapping([\"BA\", \"AC\", \"CA\", \"BC\"])  "
   ]
  },
  {
   "cell_type": "code",
   "execution_count": null,
   "metadata": {},
   "outputs": [],
   "source": []
  }
 ],
 "metadata": {
  "interpreter": {
   "hash": "ceb093ceb18f13451048487bcb7ef3513a6b6b3790aa848cfee2c3e2f6c47c25"
  },
  "kernelspec": {
   "display_name": "Python 3.10.0 64-bit",
   "language": "python",
   "name": "python3"
  },
  "language_info": {
   "codemirror_mode": {
    "name": "ipython",
    "version": 3
   },
   "file_extension": ".py",
   "mimetype": "text/x-python",
   "name": "python",
   "nbconvert_exporter": "python",
   "pygments_lexer": "ipython3",
   "version": "3.10.0"
  },
  "orig_nbformat": 4
 },
 "nbformat": 4,
 "nbformat_minor": 2
}
