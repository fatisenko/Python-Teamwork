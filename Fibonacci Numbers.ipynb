{
 "cells": [
  {
   "cell_type": "code",
   "execution_count": 2,
   "metadata": {},
   "outputs": [
    {
     "name": "stdout",
     "output_type": "stream",
     "text": [
      "[1, 1, 2, 3, 5, 8, 13, 21, 34, 55]\n"
     ]
    }
   ],
   "source": [
    "fibonacci = []\n",
    "i = 1\n",
    "while True:\n",
    "  if len(fibonacci) <= 1:\n",
    "   fibonacci.append(i)\n",
    "  elif fibonacci[-1] == 55:\n",
    "    break\n",
    "  else:\n",
    "    fibonacci.append(fibonacci[-1] + i)\n",
    "    i = fibonacci[-2]  \n",
    "print(fibonacci)    "
   ]
  }
 ],
 "metadata": {
  "interpreter": {
   "hash": "ceb093ceb18f13451048487bcb7ef3513a6b6b3790aa848cfee2c3e2f6c47c25"
  },
  "kernelspec": {
   "display_name": "Python 3.10.0 64-bit",
   "language": "python",
   "name": "python3"
  },
  "language_info": {
   "codemirror_mode": {
    "name": "ipython",
    "version": 3
   },
   "file_extension": ".py",
   "mimetype": "text/x-python",
   "name": "python",
   "nbconvert_exporter": "python",
   "pygments_lexer": "ipython3",
   "version": "3.10.0"
  },
  "orig_nbformat": 4
 },
 "nbformat": 4,
 "nbformat_minor": 2
}
