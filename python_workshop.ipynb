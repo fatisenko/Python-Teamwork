{
 "cells": [
  {
   "cell_type": "code",
   "execution_count": null,
   "metadata": {},
   "outputs": [],
   "source": [
    "a= \"herkesi sen\"\n",
    "b= \"Sadıkâne\"\n",
    "c=\"yâr olur\"\n",
    "d=\"ağyâr olur\"\n",
    "e=\"serdar olur\"\n",
    "def yavuz(x1,x2,x3,x4,x5):\n",
    "  print(\"Sanma şâhım”,x1,x2,x3\")\n",
    "  print(x1,\"dost mu sandın belki ol\", x4)\n",
    "  print(x2,\"belki ol alemde bir\",x5)\n",
    "  print(x3,x4,x5,\"didar olur\")\n",
    "\n"
   ]
  },
  {
   "cell_type": "code",
   "execution_count": null,
   "metadata": {},
   "outputs": [],
   "source": []
  }
 ],
 "metadata": {
  "language_info": {
   "name": "plaintext"
  },
  "orig_nbformat": 4
 },
 "nbformat": 4,
 "nbformat_minor": 2
}
